{
 "cells": [
  {
   "cell_type": "markdown",
   "metadata": {},
   "source": [
    "# 5.1 while循环语言"
   ]
  },
  {
   "cell_type": "markdown",
   "metadata": {},
   "source": [
    "# 5.2 for循环语句"
   ]
  },
  {
   "cell_type": "markdown",
   "metadata": {},
   "source": [
    "## 5.2.1 for (语句1;条件;语句2) 语句3"
   ]
  },
  {
   "cell_type": "code",
   "execution_count": 1,
   "metadata": {},
   "outputs": [
    {
     "data": {
      "text/plain": [
       "5050"
      ]
     },
     "execution_count": 1,
     "metadata": {},
     "output_type": "execute_result"
    }
   ],
   "source": [
    "n = 0\n",
    "for (i=1;i<=100;i++) // 语句1 给i 赋初值，条件 判断是否跳出循环，语句2 在语句3 运行之后运行\n",
    "    n += i  // n += i 是一种特殊的赋值语句，相当于 n = n+i，类似的还有-=、*=、/=等等"
   ]
  },
  {
   "cell_type": "markdown",
   "metadata": {},
   "source": [
    "    理论上while循环更简单，但是我还是把更复杂的for语言拿出来先讲，因为日常编程中，我们用for循环的情况更多，for循环可以解决几乎所有问题，在一些语言中，甚至直接把while循环删除了，例如golang。\n",
    "    \n",
    "    "
   ]
  }
 ],
 "metadata": {
  "kernelspec": {
   "display_name": "Javascript (Node.js)",
   "language": "javascript",
   "name": "javascript"
  },
  "language_info": {
   "file_extension": ".js",
   "mimetype": "application/javascript",
   "name": "javascript",
   "version": "6.17.1"
  }
 },
 "nbformat": 4,
 "nbformat_minor": 4
}

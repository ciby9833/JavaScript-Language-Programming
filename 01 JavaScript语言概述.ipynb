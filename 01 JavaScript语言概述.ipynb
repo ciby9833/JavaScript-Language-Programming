{
 "cells": [
  {
   "cell_type": "markdown",
   "metadata": {},
   "source": [
    "# 1.1 JavaScript语言的发展过程\n",
    "\n",
    "    JavaScript是伴随着浏览器诞生的一门语言，1995年，硅谷的各大公司在万维网的基础上，开始各自开发浏览器和网页技术，sun公司的一帮人想在浏览器之上做一些web应用，就发明了Java语言，然后小伙伴们觉得Java太好了，纷纷购买了Java的使用权，sun公司逐渐把重心放在Java的开发上，而sun公司的小伙伴网景公司，觉得Java放浏览器里还是不好用，就花了十天时间设计出了一门新语言，这就是大名鼎鼎的JavaScript。\n",
    "    \n",
    "    所以那些说JavaScript和Java没有关系的人，是编程史学的不好，看名字就知道怎么可能没有关系。当然，这两者只是文科上的有关系，JavaScript是解释型脚本语言，Java是介乎编译语言和解释型语言之间的混合语言，语法上区别也很大，从编程的角度来看，是没啥关系。"
   ]
  },
  {
   "cell_type": "markdown",
   "metadata": {},
   "source": [
    "# 1.2 当代最优秀的程序设计语言\n",
    "    \n",
    "    JavaScript是一门高级的、解释型的编程语言。HTML、CSS、JavaScript组成了我们看到的绝大多数网页内容。JavaScript广泛应用于chrome、firefox等浏览器插件开发。JavaScript是react、vue、node等项目的编程语言。JavaScript用于开发很多跨平台程序，例如VSCode。\n",
    "\n",
    "    一个程序员花十天就设计出来的语言，我实在不想继续说下去了，赶紧花两天学会算了。"
   ]
  },
  {
   "cell_type": "markdown",
   "metadata": {},
   "source": [
    "# 1.3 浏览器控制台\n",
    "\n",
    "    工欲善其事，必先利其器。想起以前学C的时候装VS6.0，帮超算装ifort，帮学python的人装pycharm，都是噩梦一般。我既然说JavaScript适合码盲，就不用装编译器、调环境，直接打开浏览器（你既然都已经用浏览器看到这个页面了，这步都省了），按F12键，选择“控制台”（英文名console），开始码起。"
   ]
  },
  {
   "cell_type": "markdown",
   "metadata": {},
   "source": [
    "  ![图 1.1](image/1.1.PNG)"
   ]
  },
  {
   "cell_type": "markdown",
   "metadata": {},
   "source": [
    "[下一章 02 基本语法](02%20基本语法.ipynb)"
   ]
  }
 ],
 "metadata": {
  "kernelspec": {
   "display_name": "Javascript (Node.js)",
   "language": "javascript",
   "name": "javascript"
  },
  "language_info": {
   "file_extension": ".js",
   "mimetype": "application/javascript",
   "name": "javascript",
   "version": "6.17.1"
  }
 },
 "nbformat": 4,
 "nbformat_minor": 4
}

{
 "cells": [
  {
   "cell_type": "markdown",
   "metadata": {},
   "source": [
    "# 0.1 写作原因\n",
    "\n",
    "    我是一个业余计算机爱好者，从未上过一天计算机相关课程，最近因为看到大量面向码盲的python教程，感觉python的确是一门适合码盲学习的语言，但是并不适合文科生码盲学习，因为python这门脚本语言最大的用途在于科学计算、人工智能、量化交易等方向，文科生大多数情况下接触不到。相比之下，另一门脚本语言，JavaScript，则广泛应用于web前端、浏览器插件、APP应用开发等方向，简直是为文科生量身设计的一门语言。\n",
    "    \n",
    "    当然，我在写这个教程的过程中，遇到了很大的困难：我本人并不会JavaScript。这并不妨碍我把它写成“跟我一起学JavaScript”，因为不会才要一起学嘛。然而为了致敬世界上最受欢迎的程序教程，谭浩强老师的《C语言程序设计》，我把这个教程命名为《JavaScript语言程序设计》。\n",
    "    \n",
    "    本教程主要面向码盲，特别是文科生码盲，水平高的人自行学习其他教程，但是有兴趣的也可以看看，对本教程提出修正意见，帮助码盲从正确的方向开始学习编程。"
   ]
  },
  {
   "cell_type": "markdown",
   "metadata": {},
   "source": [
    "# 0.2 写作方法\n",
    "\n",
    "    我才疏学浅，时间紧迫，懒，所以使用github进行发布，使用jupyter notebook和nodejs进行写作。因为使用方法过于复杂，可能在教程完成之后会将使用方法加入附录，但是不建议读者前期使用这些工具，好麻烦。\n",
    "    好的，我们从现在开始，跟我一起学Javascript。"
   ]
  }
 ],
 "metadata": {
  "kernelspec": {
   "display_name": "Javascript (Node.js)",
   "language": "javascript",
   "name": "javascript"
  },
  "language_info": {
   "file_extension": ".js",
   "mimetype": "application/javascript",
   "name": "javascript",
   "version": "6.17.1"
  }
 },
 "nbformat": 4,
 "nbformat_minor": 4
}

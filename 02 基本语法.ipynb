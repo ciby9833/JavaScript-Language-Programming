{
 "cells": [
  {
   "cell_type": "markdown",
   "metadata": {},
   "source": [
    "# 2.1 JavaScript的第一个程序\n",
    "    \n",
    "    江湖规矩，学习任何一门新语言，都要用最快的速度打出一个“Hello World!”。"
   ]
  },
  {
   "cell_type": "code",
   "execution_count": 1,
   "metadata": {},
   "outputs": [
    {
     "ename": "ReferenceError",
     "evalue": "alert is not defined",
     "output_type": "error",
     "traceback": [
      "evalmachine.<anonymous>:1",
      "alert('Hello World!')",
      "^",
      "",
      "ReferenceError: alert is not defined",
      "    at evalmachine.<anonymous>:1:1",
      "    at ContextifyScript.Script.runInThisContext (vm.js:25:33)",
      "    at Object.runInThisContext (vm.js:97:38)",
      "    at run ([eval]:1054:15)",
      "    at onRunRequest ([eval]:888:18)",
      "    at onMessage ([eval]:848:13)",
      "    at emitTwo (events.js:106:13)",
      "    at process.emit (events.js:191:7)",
      "    at process.nextTick (internal/child_process.js:787:12)",
      "    at _combinedTickCallback (internal/process/next_tick.js:73:7)"
     ]
    }
   ],
   "source": [
    "alert('Hello World!')"
   ]
  },
  {
   "cell_type": "markdown",
   "metadata": {},
   "source": [
    "    Oh, my god! 出师未捷身先死，第一个程序就报错了。查了下，原来alert是浏览器window包里的自带函数，而在nodejs里并没有。但是小朋友们用浏览器的F12，就不会遇到这个问题。"
   ]
  },
  {
   "cell_type": "markdown",
   "metadata": {},
   "source": [
    "![图 2.1](image/2.1.PNG)"
   ]
  },
  {
   "cell_type": "markdown",
   "metadata": {},
   "source": [
    "    所以小朋友们肯定比我先成功了，这里我们可以用另一个通用函数进行字符串输出。"
   ]
  },
  {
   "cell_type": "code",
   "execution_count": 2,
   "metadata": {},
   "outputs": [
    {
     "name": "stdout",
     "output_type": "stream",
     "text": [
      "Hello World!\n"
     ]
    },
    {
     "data": {
      "text/plain": [
       "undefined"
      ]
     },
     "execution_count": 2,
     "metadata": {},
     "output_type": "execute_result"
    }
   ],
   "source": [
    "console.log('Hello World!')"
   ]
  },
  {
   "cell_type": "markdown",
   "metadata": {},
   "source": [
    "    OK, 成功了，小朋友们也可以尝试下用F12运行这个命令，结果是相同的。有趣的是都会out一个undefined，这是当没有输出时，默认显示一个空，可以忽略它的存在。alert和console.log会将字符串显示在不同位置，在学习过程中，小朋友们可以按照自己的喜好，选一个使用。"
   ]
  },
  {
   "cell_type": "markdown",
   "metadata": {},
   "source": [
    "# 2.2 注释\n",
    "\n",
    "    注释是程序中用特殊字符标注的语句，正常情况下是不运行的，主要用于标识和解释。JavaScript的注释方法和C、Java类似，用//注释单行，用/* */注释多行。    "
   ]
  },
  {
   "cell_type": "code",
   "execution_count": 3,
   "metadata": {
    "scrolled": true
   },
   "outputs": [
    {
     "data": {
      "text/plain": [
       "undefined"
      ]
     },
     "execution_count": 3,
     "metadata": {},
     "output_type": "execute_result"
    }
   ],
   "source": [
    "//单行注释，不运行"
   ]
  },
  {
   "cell_type": "code",
   "execution_count": 4,
   "metadata": {},
   "outputs": [
    {
     "data": {
      "text/plain": [
       "undefined"
      ]
     },
     "execution_count": 4,
     "metadata": {},
     "output_type": "execute_result"
    }
   ],
   "source": [
    "/*  多行注释\n",
    "    不运行  */"
   ]
  },
  {
   "cell_type": "code",
   "execution_count": 5,
   "metadata": {
    "scrolled": true
   },
   "outputs": [
    {
     "name": "stdout",
     "output_type": "stream",
     "text": [
      "这个还是会运行的\n"
     ]
    },
    {
     "data": {
      "text/plain": [
       "undefined"
      ]
     },
     "execution_count": 5,
     "metadata": {},
     "output_type": "execute_result"
    }
   ],
   "source": [
    "console.log('这个还是会运行的') // 在正常运行语言后加入注释，这段话不运行"
   ]
  },
  {
   "cell_type": "markdown",
   "metadata": {},
   "source": [
    "# 2.3 脚本语言\n",
    "\n",
    "    和很多脚本语言（诸如python、perl、shell、R、matlab等等）一样，JavaScript也是一种解释型语言，我们可以把它当计算器用。"
   ]
  },
  {
   "cell_type": "code",
   "execution_count": 6,
   "metadata": {
    "scrolled": false
   },
   "outputs": [
    {
     "data": {
      "text/plain": [
       "2"
      ]
     },
     "execution_count": 6,
     "metadata": {},
     "output_type": "execute_result"
    }
   ],
   "source": [
    "1+1"
   ]
  },
  {
   "cell_type": "code",
   "execution_count": 7,
   "metadata": {},
   "outputs": [
    {
     "data": {
      "text/plain": [
       "1231.34"
      ]
     },
     "execution_count": 7,
     "metadata": {},
     "output_type": "execute_result"
    }
   ],
   "source": [
    "1.2e3+10*3+1+3/10+0.04 // 先乘除后加减"
   ]
  },
  {
   "cell_type": "markdown",
   "metadata": {},
   "source": [
    "    现在，我们已经发现了JavaScript的实际使用价值之一，之前遇到这些问题我都是开python或者matlab，现在只要浏览器F12就行了。"
   ]
  },
  {
   "cell_type": "markdown",
   "metadata": {},
   "source": [
    "[下一章 03 数据类型、运算符与表达式](03%20数据类型、运算符与表达式.ipynb)"
   ]
  }
 ],
 "metadata": {
  "kernelspec": {
   "display_name": "Javascript (Node.js)",
   "language": "javascript",
   "name": "javascript"
  },
  "language_info": {
   "file_extension": ".js",
   "mimetype": "application/javascript",
   "name": "javascript",
   "version": "6.17.1"
  }
 },
 "nbformat": 4,
 "nbformat_minor": 4
}

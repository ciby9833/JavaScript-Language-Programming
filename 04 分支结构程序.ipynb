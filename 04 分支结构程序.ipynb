{
 "cells": [
  {
   "cell_type": "markdown",
   "metadata": {},
   "source": [
    "# 4.1 条件语句"
   ]
  },
  {
   "cell_type": "markdown",
   "metadata": {},
   "source": [
    "## 4.1.1 if (条件) 语句 "
   ]
  },
  {
   "cell_type": "code",
   "execution_count": 6,
   "metadata": {},
   "outputs": [
    {
     "name": "stdout",
     "output_type": "stream",
     "text": [
      "3.14是小于3.1416的\n"
     ]
    },
    {
     "data": {
      "text/plain": [
       "undefined"
      ]
     },
     "execution_count": 6,
     "metadata": {},
     "output_type": "execute_result"
    }
   ],
   "source": [
    "a = 3.14\n",
    "b = 3.1416\n",
    "if (a < b)\n",
    "    console.log(`${a}是小于${b}的`)"
   ]
  },
  {
   "cell_type": "markdown",
   "metadata": {},
   "source": [
    "    当我们在条件成立时，想多运行几条语句，就可以用{...}将几条语句放在一起，当一条语句用。"
   ]
  },
  {
   "cell_type": "code",
   "execution_count": 8,
   "metadata": {
    "scrolled": true
   },
   "outputs": [
    {
     "name": "stdout",
     "output_type": "stream",
     "text": [
      "3.14是小于3.1416的\n",
      "但是我们还想多加一句话\n"
     ]
    },
    {
     "data": {
      "text/plain": [
       "undefined"
      ]
     },
     "execution_count": 8,
     "metadata": {},
     "output_type": "execute_result"
    }
   ],
   "source": [
    "if (a < b) {\n",
    "    console.log(`${a}是小于${b}的`)\n",
    "    console.log('但是我们还想多加一句话')\n",
    "}"
   ]
  },
  {
   "cell_type": "code",
   "execution_count": 12,
   "metadata": {
    "scrolled": true
   },
   "outputs": [
    {
     "name": "stdout",
     "output_type": "stream",
     "text": [
      "条件可以是一个很复杂的表达式，运算值为true可以运行这句话\n"
     ]
    },
    {
     "data": {
      "text/plain": [
       "undefined"
      ]
     },
     "execution_count": 12,
     "metadata": {},
     "output_type": "execute_result"
    }
   ],
   "source": [
    "c = 2.7\n",
    "d = 2.718\n",
    "if (a < b && c < d){\n",
    "    console.log('条件可以是一个很复杂的表达式，运算值为true可以运行这句话')\n",
    "}"
   ]
  },
  {
   "cell_type": "markdown",
   "metadata": {},
   "source": [
    "## 4.1.2 if (条件) 语句1 else 语句2"
   ]
  },
  {
   "cell_type": "code",
   "execution_count": 24,
   "metadata": {},
   "outputs": [
    {
     "name": "stdout",
     "output_type": "stream",
     "text": [
      "3.14是小于3.1416的\n"
     ]
    },
    {
     "data": {
      "text/plain": [
       "undefined"
      ]
     },
     "execution_count": 24,
     "metadata": {},
     "output_type": "execute_result"
    }
   ],
   "source": [
    "if (a >= b) \n",
    "    console.log(`${a}是大于等于${b}的`) // 因为条件结果为false，这句话不会运行\n",
    "else\n",
    "    console.log(`${a}是小于${b}的`) // 条件不成立时，运行这句"
   ]
  },
  {
   "cell_type": "markdown",
   "metadata": {},
   "source": [
    "## 4.1.3 if (条件1) 语句1 else if (条件2) 语句2 else 语句3\n",
    "\n",
    "    任何情况下，上一节中的语句1和语句2里面，都可以无穷的嵌套if else语句"
   ]
  },
  {
   "cell_type": "code",
   "execution_count": 26,
   "metadata": {},
   "outputs": [
    {
     "name": "stdout",
     "output_type": "stream",
     "text": [
      "2.7是小于3的\n"
     ]
    },
    {
     "data": {
      "text/plain": [
       "undefined"
      ]
     },
     "execution_count": 26,
     "metadata": {},
     "output_type": "execute_result"
    }
   ],
   "source": [
    "if (a < 3) \n",
    "    console.log(`${a}是小于3的`)\n",
    "else if (b < 3)\n",
    "    console.log(`${b}是小于3的`)\n",
    "else if (c < 3)\n",
    "    console.log(`${c}是小于3的`)\n",
    "else\n",
    "    console.log(`${a}、${b}、${c}都大于等于3`)"
   ]
  },
  {
   "cell_type": "markdown",
   "metadata": {},
   "source": [
    "# 4.2 switch语句"
   ]
  },
  {
   "cell_type": "code",
   "execution_count": 29,
   "metadata": {
    "scrolled": true
   },
   "outputs": [
    {
     "name": "stdout",
     "output_type": "stream",
     "text": [
      "3是3\n"
     ]
    },
    {
     "data": {
      "text/plain": [
       "undefined"
      ]
     },
     "execution_count": 29,
     "metadata": {},
     "output_type": "execute_result"
    }
   ],
   "source": [
    "n = 3\n",
    "switch (n){\n",
    "    case 1:\n",
    "        console.log(`${n}是1`) // 当n为1的时候运行这句\n",
    "        break                 // break表示运行完之前的语句之后跳出switch分支程序\n",
    "    case 2:\n",
    "        console.log(`${n}是2`)\n",
    "        break\n",
    "    case 3:\n",
    "        console.log(`${n}是3`)\n",
    "        break\n",
    "    case 4:\n",
    "        console.log(`${n}是4`)\n",
    "        break\n",
    "    default:\n",
    "        console.log(`${n}可能是别的什么玩意，反正不是1234`) // 当之前所有case都没有实现，默认运行这句\n",
    "}"
   ]
  },
  {
   "cell_type": "markdown",
   "metadata": {},
   "source": [
    "    switch语句略复杂，初学者并不需要掌握，因为if else理论上可以解决所有分支结构问题。学习编程有两步，一步是写，另一步是读，出于写，我们可以暂时跳过这些不重要的部分，而出于读，才需要掌握一些不常用的“常用”用法。但是即使是出于读，也可以在遇到问题时，再去google，没必要浪费大脑的空间。学会学有时候比学会用更重要，因为编程这种东西，几年一个更新换代，就像 ** 符号，在我这个老版本nodejs是会报错的，但是在你们F12里是和python一样的幂指符号，只有边用边学，才是学习编程的正确方法。\n",
    "    \n",
    "    说的有点偏了，我们开始下一章的学习。"
   ]
  },
  {
   "cell_type": "markdown",
   "metadata": {},
   "source": [
    "[下一章 05 循环控制](05%20循环控制.ipynb)"
   ]
  }
 ],
 "metadata": {
  "kernelspec": {
   "display_name": "Javascript (Node.js)",
   "language": "javascript",
   "name": "javascript"
  },
  "language_info": {
   "file_extension": ".js",
   "mimetype": "application/javascript",
   "name": "javascript",
   "version": "6.17.1"
  }
 },
 "nbformat": 4,
 "nbformat_minor": 4
}
